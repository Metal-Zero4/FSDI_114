{
 "cells": [
  {
   "cell_type": "code",
   "execution_count": 1,
   "id": "bdc16e46",
   "metadata": {},
   "outputs": [
    {
     "name": "stdout",
     "output_type": "stream",
     "text": [
      "h\n",
      "e\n",
      "l\n",
      "l\n",
      "o\n",
      ",\n",
      " \n",
      "w\n",
      "o\n",
      "r\n",
      "l\n",
      "d\n",
      "!\n"
     ]
    }
   ],
   "source": [
    "for letter in \"hello, world!\":\n",
    "    print(letter)"
   ]
  },
  {
   "cell_type": "markdown",
   "id": "4460d8cc",
   "metadata": {},
   "source": [
    "# Hello, world!\n",
    "* Bullet point\n",
    "> Quote\n",
    ">\n",
    "`Plain text.`\n",
    "\n",
    "```Triple \n",
    "backticks.\n",
    "```\n",
    "\n",
    ".[test].(exaple.com)"
   ]
  },
  {
   "cell_type": "markdown",
   "id": "14fbf9f7",
   "metadata": {},
   "source": [
    "# Problem 1\n",
    "### Given two strings (string_a and string_b) let's check whether or not they are \n",
    "### anagrams of each other given the following criteria:\n",
    "\n",
    "> Two strings are only anagrams of each other if all conditions below are met:\n",
    "> * They must be exactly the same length.\n",
    "> * They must use exactly the same characters (no more, no less).\n",
    "> * Example: cars and scar, heart and earth, etc."
   ]
  },
  {
   "cell_type": "code",
   "execution_count": 2,
   "id": "c7c90dc8",
   "metadata": {},
   "outputs": [],
   "source": [
    "# def Anagram_check():\n",
    "# if string_a(input_1).length != string_b(input_2).length\n",
    "#    return \"False\"\n",
    "# else compare char_val(string_a) to char_val(string_b)\n",
    "#      if char_val(string_a) != char_val(string_b)\n",
    "#      return \"False\"\n",
    "#      \n",
    "#      else if char_val(string_a) === char_val(string_b)\n",
    "#      return \"True\"\n"
   ]
  },
  {
   "cell_type": "code",
   "execution_count": 10,
   "id": "d4176afb",
   "metadata": {},
   "outputs": [
    {
     "ename": "SyntaxError",
     "evalue": "invalid syntax (3097500553.py, line 10)",
     "output_type": "error",
     "traceback": [
      "\u001b[0;36m  Input \u001b[0;32mIn [10]\u001b[0;36m\u001b[0m\n\u001b[0;31m    da[i] += 1            `            # otherwise: add 1 to the value of the existing entry.\u001b[0m\n\u001b[0m                          ^\u001b[0m\n\u001b[0;31mSyntaxError\u001b[0m\u001b[0;31m:\u001b[0m invalid syntax\n"
     ]
    }
   ],
   "source": [
    "def is_anagram(string_a, string_b):            # Function definition\n",
    "    if len(string_a) != len(string_b):         # Check if string_a's length does not equal string_b's\n",
    "        return false                           # if previous condition is true, return False.\n",
    "    da = dict()                                # Create 2 empty dictionaries.\n",
    "    db = dict()\n",
    "    for i in range(len(string_a)):             # Looping for every value in the range 0 to length of string_a\n",
    "        if string_a[i] not in da.keys():       # if the character at position i in string_a isn't in da.\n",
    "            da[i] = 1                          # ... create a new entry with a value of 1.\n",
    "        else:\n",
    "            da[i] += 1            `            # otherwise: add 1 to the value of the existing entry.\n",
    "        if string_b[i] not in db.keys():       # if the character at position i in string_b isn't in db.\n",
    "            db[i] = 1                          # ... create a new entry with a value of 1.\n",
    "        else:                                  # otherwise: add 1 to the value of the existing entry.\n",
    "            db[i] += 1                         # Finally: compare da to db, return True if they are the same...\n",
    "    return da == db                            # or False otherwise."
   ]
  },
  {
   "cell_type": "code",
   "execution_count": 4,
   "id": "0b1c44f5",
   "metadata": {},
   "outputs": [],
   "source": [
    "# Consider the popular Harry Potter series:\n",
    "# \"I am Lord Voldemort\" is an anagram of \"Tom Marvolo Riddle\""
   ]
  },
  {
   "cell_type": "code",
   "execution_count": 11,
   "id": "9b732086",
   "metadata": {},
   "outputs": [
    {
     "ename": "SyntaxError",
     "evalue": "invalid syntax (2064417677.py, line 12)",
     "output_type": "error",
     "traceback": [
      "\u001b[0;36m  Input \u001b[0;32mIn [11]\u001b[0;36m\u001b[0m\n\u001b[0;31m    else if len(string.lower(string_a)) == len(string.lower(string_b))\u001b[0m\n\u001b[0m         ^\u001b[0m\n\u001b[0;31mSyntaxError\u001b[0m\u001b[0;31m:\u001b[0m invalid syntax\n"
     ]
    }
   ],
   "source": [
    "def Voldemort():\n",
    "    string_a=\"I am Lord Voldemort\"\n",
    "    string_b=\"Tom Marvolo Riddle\"\n",
    "    \n",
    "    string_a.replace(\" \", \"\")\n",
    "    string_b.replace(\" \", \"\")\n",
    "    \n",
    "    \n",
    "    if len(string_a) != len(string_b):\n",
    "        return false\n",
    "    \n",
    "    else if len(string.lower(string_a)) == len(string.lower(string_b))\n",
    "        return true\n",
    "        print(\"This is an anagram\")\n",
    "    \n",
    "    "
   ]
  },
  {
   "cell_type": "code",
   "execution_count": 14,
   "id": "63d67199",
   "metadata": {},
   "outputs": [],
   "source": [
    "class Stack:\n",
    "    def __init__(self):\n",
    "        self.items = []\n",
    "    def push(self, item):\n",
    "        self.items.append(item)\n",
    "    def pop(self):\n",
    "        return self.items.pop()\n",
    "    def peek(self):\n",
    "        self.items[len(self.items)-1]\n",
    "    def size(self):\n",
    "        return len(self.items)\n",
    "    def __len__(self):\n",
    "        return self.size()\n",
    "    def is_empty(self):\n",
    "        return self.items == []"
   ]
  },
  {
   "cell_type": "code",
   "execution_count": 15,
   "id": "c72271dd",
   "metadata": {},
   "outputs": [],
   "source": [
    "# Problem 2: Reverse a string using a stack.\n",
    "# Given a string as a parameter, use a stack to reverse it.\n",
    "# Examples: \"angel\" -> \"legna\" Don't have to worry about cases.\n",
    "\n",
    "def reverse_str(mystring):\n",
    "    stack = Stack()\n",
    "    output = \"\"\n",
    "    for letter in mystring:\n",
    "        print(\"Pushing letter: %s\" % letter)\n",
    "        stack.push(letter)\n",
    "    print(\"Current stack: %s\" % stack.items)\n",
    "    while not stack.is_empty():\n",
    "        current_letter = stack.pop()\n",
    "        print(\"Popping letter: %s\" % current_letter)\n",
    "        output += current_letter\n",
    "        \n",
    "    return output\n"
   ]
  },
  {
   "cell_type": "code",
   "execution_count": 16,
   "id": "90e2a1a2",
   "metadata": {},
   "outputs": [
    {
     "name": "stdout",
     "output_type": "stream",
     "text": [
      "Pushing letter: A\n",
      "Pushing letter: n\n",
      "Pushing letter: g\n",
      "Pushing letter: e\n",
      "Pushing letter: l\n",
      "Current stack: ['A', 'n', 'g', 'e', 'l']\n",
      "Popping letter: l\n",
      "Popping letter: e\n",
      "Popping letter: g\n",
      "Popping letter: n\n",
      "Popping letter: A\n"
     ]
    },
    {
     "data": {
      "text/plain": [
       "'legnA'"
      ]
     },
     "execution_count": 16,
     "metadata": {},
     "output_type": "execute_result"
    }
   ],
   "source": [
    "reverse_str(\"Angel\")"
   ]
  },
  {
   "cell_type": "code",
   "execution_count": null,
   "id": "86a85e40",
   "metadata": {},
   "outputs": [],
   "source": []
  }
 ],
 "metadata": {
  "kernelspec": {
   "display_name": "Python 3 (ipykernel)",
   "language": "python",
   "name": "python3"
  },
  "language_info": {
   "codemirror_mode": {
    "name": "ipython",
    "version": 3
   },
   "file_extension": ".py",
   "mimetype": "text/x-python",
   "name": "python",
   "nbconvert_exporter": "python",
   "pygments_lexer": "ipython3",
   "version": "3.8.10"
  }
 },
 "nbformat": 4,
 "nbformat_minor": 5
}

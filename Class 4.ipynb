{
 "cells": [
  {
   "cell_type": "code",
   "execution_count": 1,
   "id": "79f76187",
   "metadata": {},
   "outputs": [
    {
     "name": "stdout",
     "output_type": "stream",
     "text": [
      "1\n",
      "2\n",
      "3\n",
      "4\n",
      "5\n"
     ]
    }
   ],
   "source": [
    "class Node:\n",
    "    def __init__(self, data):\n",
    "        self.data = data\n",
    "        self.next = None\n",
    "        \n",
    "        \n",
    "class DNode:\n",
    "    def __init__(self, data):\n",
    "        self.data = data\n",
    "        self.next = None\n",
    "        self.prev = None"
   ]
  },
  {
   "cell_type": "code",
   "execution_count": 55,
   "id": "049ac975",
   "metadata": {},
   "outputs": [],
   "source": [
    "class SinglyLinkedList:\n",
    "    def __init__(self):\n",
    "        self.head = None\n",
    "        \n",
    "    def append(self, item):\n",
    "        current = self.head\n",
    "        if self.head == None:\n",
    "            self.head = Node(item)\n",
    "        else:\n",
    "            while current.next:\n",
    "                current = current.next\n",
    "            current.next = Node(item)\n",
    "            \n",
    "    def insert(self, position_after, target_value):\n",
    "        current = self.head\n",
    "        counter = 0\n",
    "        if not self.head:\n",
    "            self.head = Node(target_value)\n",
    "        else:\n",
    "            while current.next and position_after != counter:\n",
    "                current = current.next\n",
    "                counter += 1\n",
    "            # step 1:\n",
    "            old_next = current.next                                # [1, 2, 3, 4, 5]\n",
    "                                                                   # new_node = N(5, None)\n",
    "            # step 2:                                              # current(3, None); old_next = N(4, N(5,))\n",
    "            new_node = Node(target_value)                          # current(3, new_node)\n",
    "            current.next = new_node\n",
    "            # step 3:                                              # new_node(5, old_next)\n",
    "            new_node.next = old_next\n",
    "            \n",
    "    def print_list(self):\n",
    "        out_str = \"[\"\n",
    "        if self.head:\n",
    "            out_str += \"%s\" % self.head.data\n",
    "        current = self.head.next\n",
    "        while current:\n",
    "            out_str += \", %s\" % current.data\n",
    "            current = current.next\n",
    "        out_str += \"]\"\n",
    "        return out_str\n",
    "        \n",
    "    def __str__(self):\n",
    "        return self.print_list()\n",
    "        \n",
    "    def index(self, target):\n",
    "        current = self.head\n",
    "        counter = 0\n",
    "        while current:\n",
    "            if current.data == target:\n",
    "                return counter\n",
    "            current = current.next\n",
    "            counter += 1\n",
    "        raise ValueError(\"%s is not in the list\" % target)\n",
    "    \n",
    "    def get_value_at_index(self, index):\n",
    "        current = self.head\n",
    "        counter = 0\n",
    "        while current:\n",
    "            if counter == index:\n",
    "                return current.data\n",
    "            current = current.next\n",
    "            counter +=1\n",
    "        raise IndexError(\"listindex out of range\")\n",
    "        \n",
    "    def __getitem__(self, item):\n",
    "        return self.get_value_at_index(item)\n",
    "    \n",
    "    def remove(self, target):                          # [1, 2, 3, 4]; tv = 3\n",
    "        current = self.head\n",
    "        found = False\n",
    "        if current.data == target_value:\n",
    "            self.head = self.head.next\n",
    "        else:\n",
    "            while current.next and current.data != target_value:\n",
    "                prev = current                        # prev=1; prev=2\n",
    "                current = current.next                # current=2; current=3\n",
    "            if current.data == target_value:          # 2 !=3 ; 3 == 3\n",
    "                found = True                          # found = True\n",
    "                prev.next = current.next              # 2 -> 4\n",
    "            if not found:\n",
    "                raise ValueError(\"%s is not in list\")"
   ]
  },
  {
   "cell_type": "code",
   "execution_count": 60,
   "id": "ffe56bb7",
   "metadata": {},
   "outputs": [
    {
     "name": "stdout",
     "output_type": "stream",
     "text": [
      "[A, B, C, D]\n",
      "2\n",
      "C\n",
      "C\n",
      "['A', 'angel', 'B', 'C', 'D']\n"
     ]
    }
   ],
   "source": [
    "\n",
    "sll = SinglyLinkedList()\n",
    "\n",
    "\n",
    "# for i in range(5):\n",
    "#     sll.append(i)\n",
    "for letter in \"ABCD\":\n",
    "    sll.append(letter)\n",
    "print(sll)\n",
    "print(sll.index(\"C\"))\n",
    "\n",
    "x = [\"A\", \"B\", \"C\", \"D\"]\n",
    "\n",
    "\n",
    "print(x[2])\n",
    "print(sll[2])\n",
    "# sll.print_list()\n",
    "\n",
    "# x = [0, 1, 2, 3, 4]\n",
    "# print(x.index(5))\n",
    "x.insert(1, \"angel\")\n",
    "print(x)"
   ]
  },
  {
   "cell_type": "code",
   "execution_count": null,
   "id": "9131043c",
   "metadata": {},
   "outputs": [],
   "source": []
  }
 ],
 "metadata": {
  "kernelspec": {
   "display_name": "Python 3 (ipykernel)",
   "language": "python",
   "name": "python3"
  },
  "language_info": {
   "codemirror_mode": {
    "name": "ipython",
    "version": 3
   },
   "file_extension": ".py",
   "mimetype": "text/x-python",
   "name": "python",
   "nbconvert_exporter": "python",
   "pygments_lexer": "ipython3",
   "version": "3.8.10"
  }
 },
 "nbformat": 4,
 "nbformat_minor": 5
}
